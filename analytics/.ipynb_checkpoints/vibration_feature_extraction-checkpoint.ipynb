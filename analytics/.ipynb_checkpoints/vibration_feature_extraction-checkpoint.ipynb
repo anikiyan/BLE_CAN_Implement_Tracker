{
 "cells": [
  {
   "cell_type": "markdown",
   "id": "9914ef32",
   "metadata": {},
   "source": [
    "# 📊 Vibration Feature Extraction and EDA\n",
    "This notebook loads the implement usage summary and performs basic EDA and anomaly checks."
   ]
  },
  {
   "cell_type": "code",
   "execution_count": 2,
   "id": "a078a2b5",
   "metadata": {},
   "outputs": [
    {
     "data": {
      "text/html": [
       "<div>\n",
       "<style scoped>\n",
       "    .dataframe tbody tr th:only-of-type {\n",
       "        vertical-align: middle;\n",
       "    }\n",
       "\n",
       "    .dataframe tbody tr th {\n",
       "        vertical-align: top;\n",
       "    }\n",
       "\n",
       "    .dataframe thead th {\n",
       "        text-align: right;\n",
       "    }\n",
       "</style>\n",
       "<table border=\"1\" class=\"dataframe\">\n",
       "  <thead>\n",
       "    <tr style=\"text-align: right;\">\n",
       "      <th></th>\n",
       "      <th>Start</th>\n",
       "      <th>Stop</th>\n",
       "      <th>Duration_sec</th>\n",
       "      <th>Duration_min</th>\n",
       "    </tr>\n",
       "  </thead>\n",
       "  <tbody>\n",
       "    <tr>\n",
       "      <th>0</th>\n",
       "      <td>2025-05-29 14:51:53.812107</td>\n",
       "      <td>NaT</td>\n",
       "      <td>NaN</td>\n",
       "      <td>NaN</td>\n",
       "    </tr>\n",
       "    <tr>\n",
       "      <th>1</th>\n",
       "      <td>2025-05-29 14:53:53.812107</td>\n",
       "      <td>2025-05-29 14:52:53.812107</td>\n",
       "      <td>-60.0</td>\n",
       "      <td>-1.0</td>\n",
       "    </tr>\n",
       "    <tr>\n",
       "      <th>2</th>\n",
       "      <td>2025-05-29 14:55:53.812107</td>\n",
       "      <td>2025-05-29 14:54:53.812107</td>\n",
       "      <td>-60.0</td>\n",
       "      <td>-1.0</td>\n",
       "    </tr>\n",
       "    <tr>\n",
       "      <th>3</th>\n",
       "      <td>2025-05-29 14:57:53.812107</td>\n",
       "      <td>2025-05-29 14:56:53.812107</td>\n",
       "      <td>-60.0</td>\n",
       "      <td>-1.0</td>\n",
       "    </tr>\n",
       "    <tr>\n",
       "      <th>4</th>\n",
       "      <td>2025-05-29 14:59:53.812107</td>\n",
       "      <td>2025-05-29 14:58:53.812107</td>\n",
       "      <td>-60.0</td>\n",
       "      <td>-1.0</td>\n",
       "    </tr>\n",
       "  </tbody>\n",
       "</table>\n",
       "</div>"
      ],
      "text/plain": [
       "                       Start                       Stop  Duration_sec  \\\n",
       "0 2025-05-29 14:51:53.812107                        NaT           NaN   \n",
       "1 2025-05-29 14:53:53.812107 2025-05-29 14:52:53.812107         -60.0   \n",
       "2 2025-05-29 14:55:53.812107 2025-05-29 14:54:53.812107         -60.0   \n",
       "3 2025-05-29 14:57:53.812107 2025-05-29 14:56:53.812107         -60.0   \n",
       "4 2025-05-29 14:59:53.812107 2025-05-29 14:58:53.812107         -60.0   \n",
       "\n",
       "   Duration_min  \n",
       "0           NaN  \n",
       "1          -1.0  \n",
       "2          -1.0  \n",
       "3          -1.0  \n",
       "4          -1.0  "
      ]
     },
     "execution_count": 2,
     "metadata": {},
     "output_type": "execute_result"
    }
   ],
   "source": [
    "import pandas as pd\n",
    "import matplotlib.pyplot as plt\n",
    "import seaborn as sns\n",
    "\n",
    "# Load implement usage summary\n",
    "df = pd.read_csv('../data_pipeline/implement_usage_summary.csv')\n",
    "df['Start'] = pd.to_datetime(df['Start'])\n",
    "df['Stop'] = pd.to_datetime(df['Stop'])\n",
    "df['Duration_min'] = df['Duration_sec'] / 60\n",
    "\n",
    "df.head()"
   ]
  },
  {
   "cell_type": "markdown",
   "id": "0b1cf986",
   "metadata": {},
   "source": [
    "## 📈 Distribution of Implement Usage Durations"
   ]
  },
  {
   "cell_type": "code",
   "execution_count": 3,
   "id": "4232630a",
   "metadata": {},
   "outputs": [
    {
     "data": {
      "image/png": "[encoded data removed]",
      "text/plain": [
       "<Figure size 1000x500 with 1 Axes>"
      ]
     },
     "metadata": {},
     "output_type": "display_data"
    }
   ],
   "source": [
    "plt.figure(figsize=(10, 5))\n",
    "sns.histplot(df['Duration_min'], bins=10, kde=True)\n",
    "plt.title(\"Distribution of Implement Usage Durations\")\n",
    "plt.xlabel(\"Duration (minutes)\")\n",
    "plt.ylabel(\"Frequency\")\n",
    "plt.grid(True)\n",
    "plt.show()"
   ]
  },
  {
   "cell_type": "markdown",
   "id": "44ba3b8c",
   "metadata": {},
   "source": [
    "## ⚠️ Detect Potential Anomalies (Too Short or Too Long Events)"
   ]
  },
  {
   "cell_type": "code",
   "execution_count": 4,
   "id": "124bdf37",
   "metadata": {},
   "outputs": [
    {
     "data": {
      "text/html": [
       "<div>\n",
       "<style scoped>\n",
       "    .dataframe tbody tr th:only-of-type {\n",
       "        vertical-align: middle;\n",
       "    }\n",
       "\n",
       "    .dataframe tbody tr th {\n",
       "        vertical-align: top;\n",
       "    }\n",
       "\n",
       "    .dataframe thead th {\n",
       "        text-align: right;\n",
       "    }\n",
       "</style>\n",
       "<table border=\"1\" class=\"dataframe\">\n",
       "  <thead>\n",
       "    <tr style=\"text-align: right;\">\n",
       "      <th></th>\n",
       "      <th>Start</th>\n",
       "      <th>Stop</th>\n",
       "      <th>Duration_sec</th>\n",
       "      <th>Duration_min</th>\n",
       "    </tr>\n",
       "  </thead>\n",
       "  <tbody>\n",
       "    <tr>\n",
       "      <th>1</th>\n",
       "      <td>2025-05-29 14:53:53.812107</td>\n",
       "      <td>2025-05-29 14:52:53.812107</td>\n",
       "      <td>-60.0</td>\n",
       "      <td>-1.0</td>\n",
       "    </tr>\n",
       "    <tr>\n",
       "      <th>2</th>\n",
       "      <td>2025-05-29 14:55:53.812107</td>\n",
       "      <td>2025-05-29 14:54:53.812107</td>\n",
       "      <td>-60.0</td>\n",
       "      <td>-1.0</td>\n",
       "    </tr>\n",
       "    <tr>\n",
       "      <th>3</th>\n",
       "      <td>2025-05-29 14:57:53.812107</td>\n",
       "      <td>2025-05-29 14:56:53.812107</td>\n",
       "      <td>-60.0</td>\n",
       "      <td>-1.0</td>\n",
       "    </tr>\n",
       "    <tr>\n",
       "      <th>4</th>\n",
       "      <td>2025-05-29 14:59:53.812107</td>\n",
       "      <td>2025-05-29 14:58:53.812107</td>\n",
       "      <td>-60.0</td>\n",
       "      <td>-1.0</td>\n",
       "    </tr>\n",
       "    <tr>\n",
       "      <th>5</th>\n",
       "      <td>2025-05-29 15:01:53.812107</td>\n",
       "      <td>2025-05-29 15:00:53.812107</td>\n",
       "      <td>-60.0</td>\n",
       "      <td>-1.0</td>\n",
       "    </tr>\n",
       "    <tr>\n",
       "      <th>6</th>\n",
       "      <td>2025-05-29 15:03:53.812107</td>\n",
       "      <td>2025-05-29 15:02:53.812107</td>\n",
       "      <td>-60.0</td>\n",
       "      <td>-1.0</td>\n",
       "    </tr>\n",
       "    <tr>\n",
       "      <th>7</th>\n",
       "      <td>2025-05-29 15:05:53.812107</td>\n",
       "      <td>2025-05-29 15:04:53.812107</td>\n",
       "      <td>-60.0</td>\n",
       "      <td>-1.0</td>\n",
       "    </tr>\n",
       "    <tr>\n",
       "      <th>8</th>\n",
       "      <td>2025-05-29 15:07:53.812107</td>\n",
       "      <td>2025-05-29 15:06:53.812107</td>\n",
       "      <td>-60.0</td>\n",
       "      <td>-1.0</td>\n",
       "    </tr>\n",
       "  </tbody>\n",
       "</table>\n",
       "</div>"
      ],
      "text/plain": [
       "                       Start                       Stop  Duration_sec  \\\n",
       "1 2025-05-29 14:53:53.812107 2025-05-29 14:52:53.812107         -60.0   \n",
       "2 2025-05-29 14:55:53.812107 2025-05-29 14:54:53.812107         -60.0   \n",
       "3 2025-05-29 14:57:53.812107 2025-05-29 14:56:53.812107         -60.0   \n",
       "4 2025-05-29 14:59:53.812107 2025-05-29 14:58:53.812107         -60.0   \n",
       "5 2025-05-29 15:01:53.812107 2025-05-29 15:00:53.812107         -60.0   \n",
       "6 2025-05-29 15:03:53.812107 2025-05-29 15:02:53.812107         -60.0   \n",
       "7 2025-05-29 15:05:53.812107 2025-05-29 15:04:53.812107         -60.0   \n",
       "8 2025-05-29 15:07:53.812107 2025-05-29 15:06:53.812107         -60.0   \n",
       "\n",
       "   Duration_min  \n",
       "1          -1.0  \n",
       "2          -1.0  \n",
       "3          -1.0  \n",
       "4          -1.0  \n",
       "5          -1.0  \n",
       "6          -1.0  \n",
       "7          -1.0  \n",
       "8          -1.0  "
      ]
     },
     "execution_count": 4,
     "metadata": {},
     "output_type": "execute_result"
    }
   ],
   "source": [
    "# Define thresholds\n",
    "min_threshold = 0.5  # minimum 30 seconds\n",
    "max_threshold = 10   # maximum 10 minutes\n",
    "\n",
    "anomalies = df[(df['Duration_min'] < min_threshold) | (df['Duration_min'] > max_threshold)]\n",
    "anomalies"
   ]
  },
  {
   "cell_type": "markdown",
   "id": "19cbaa7d",
   "metadata": {},
   "source": [
    "## ✅ Summary Statistics"
   ]
  },
  {
   "cell_type": "code",
   "execution_count": 5,
   "id": "269efa69",
   "metadata": {},
   "outputs": [
    {
     "data": {
      "text/plain": [
       "count    8.0\n",
       "mean    -1.0\n",
       "std      0.0\n",
       "min     -1.0\n",
       "25%     -1.0\n",
       "50%     -1.0\n",
       "75%     -1.0\n",
       "max     -1.0\n",
       "Name: Duration_min, dtype: float64"
      ]
     },
     "execution_count": 5,
     "metadata": {},
     "output_type": "execute_result"
    }
   ],
   "source": [
    "df['Duration_min'].describe()"
   ]
  },
  {
   "cell_type": "code",
   "execution_count": null,
   "id": "74f02a99",
   "metadata": {},
   "outputs": [],
   "source": []
  }
 ],
 "metadata": {
  "kernelspec": {
   "display_name": "Python 3 (ipykernel)",
   "language": "python",
   "name": "python3"
  },
  "language_info": {
   "codemirror_mode": {
    "name": "ipython",
    "version": 3
   },
   "file_extension": ".py",
   "mimetype": "text/x-python",
   "name": "python",
   "nbconvert_exporter": "python",
   "pygments_lexer": "ipython3",
   "version": "3.11.4"
  }
 },
 "nbformat": 4,
 "nbformat_minor": 5
}
